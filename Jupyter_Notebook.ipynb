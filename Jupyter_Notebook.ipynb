{
 "cells": [
  {
   "cell_type": "markdown",
   "metadata": {},
   "source": [
    "<center>\n",
    "    <img src=\"https://s3-api.us-geo.objectstorage.softlayer.net/cf-courses-data/CognitiveClass/Logos/organization_logo/organization_logo.png\" width=\"300\" alt=\"cognitiveclass.ai logo\"  />\n",
    "</center>\n"
   ]
  },
  {
   "cell_type": "markdown",
   "metadata": {},
   "source": [
    "#### Add your code below following the instructions given in the course\n"
   ]
  },
  {
   "cell_type": "markdown",
   "metadata": {},
   "source": [
    "# My Jupyter Notebook on IBM Watson Studio"
   ]
  },
  {
   "cell_type": "markdown",
   "metadata": {},
   "source": [
    "## Oma Siemuri\n",
    "#### Sr Data Scientist"
   ]
  },
  {
   "cell_type": "markdown",
   "metadata": {},
   "source": [
    "*I am interested in data science because I want to help companies achieve their objective and vision.*"
   ]
  },
  {
   "cell_type": "markdown",
   "metadata": {},
   "source": [
    "### Get user's year of birth and find out what generation a user belongs to."
   ]
  },
  {
   "cell_type": "code",
   "execution_count": 28,
   "metadata": {},
   "outputs": [
    {
     "name": "stdin",
     "output_type": "stream",
     "text": [
      "To find out your generation, enter birth year in format yyyy: 2010\n"
     ]
    },
    {
     "name": "stdout",
     "output_type": "stream",
     "text": [
      "Gen Z\n"
     ]
    }
   ],
   "source": [
    "coll = input('To find out your generation, enter birth year in format yyyy:')\n",
    "yearofbirth = int(coll)\n",
    "X = 1928\n",
    "Y = 1945\n",
    "Z = 1965\n",
    "W = 1981\n",
    "U = 1997\n",
    "V = 2012\n",
    "\n",
    "if yearofbirth < X:\n",
    "    print('You are too old to be worried about your generation. LOL')\n",
    "elif yearofbirth in range(X, Y):\n",
    "    print('The Silent Gen')\n",
    "elif yearofbirth in range(Y, Z):\n",
    "    print('Baby Boomers')\n",
    "elif yearofbirth in range(Z, W):\n",
    "    print('Gen X')\n",
    "elif yearofbirth in range(W, U):\n",
    "    print('Millennials')\n",
    "elif yearofbirth in range(U, V):\n",
    "    print('Gen Z')\n",
    "else:\n",
    "    print('You are too young to worry about your generation.LOL')"
   ]
  },
  {
   "cell_type": "markdown",
   "metadata": {},
   "source": [
    "|<font color = blue>Year</font>| ~Generations~ Generation|\n",
    "|----|-----------|\n",
    "|1928 - 1944|The Silent Gen|\n",
    "|1945 - 1964|Baby Boomers|\n",
    "|1965 - 1980|Gen X|\n",
    "|1981 - 1996|Millennials|\n",
    "|1997 - 2012|Gen Z|\n",
    "\n",
    "[See data source](https://www.adjust.com/blog/how-to-market-your-app-to-different-generations/)"
   ]
  },
  {
   "cell_type": "code",
   "execution_count": null,
   "metadata": {},
   "outputs": [],
   "source": []
  }
 ],
 "metadata": {
  "kernelspec": {
   "display_name": "Python",
   "language": "python",
   "name": "conda-env-python-py"
  },
  "language_info": {
   "codemirror_mode": {
    "name": "ipython",
    "version": 3
   },
   "file_extension": ".py",
   "mimetype": "text/x-python",
   "name": "python",
   "nbconvert_exporter": "python",
   "pygments_lexer": "ipython3",
   "version": "3.7.12"
  }
 },
 "nbformat": 4,
 "nbformat_minor": 4
}
